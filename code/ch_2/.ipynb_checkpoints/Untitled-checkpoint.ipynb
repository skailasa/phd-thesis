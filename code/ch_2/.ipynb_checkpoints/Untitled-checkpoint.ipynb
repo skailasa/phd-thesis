{
 "cells": [
  {
   "cell_type": "code",
   "execution_count": 1,
   "id": "b96317e9",
   "metadata": {},
   "outputs": [],
   "source": [
    "%matplotlib inline\n",
    "import matplotlib.pyplot as plt\n",
    "import pandas as pd"
   ]
  },
  {
   "cell_type": "code",
   "execution_count": 2,
   "id": "28a7e881",
   "metadata": {},
   "outputs": [],
   "source": [
    "df = pd.read_csv('data.csv')"
   ]
  },
  {
   "cell_type": "code",
   "execution_count": 3,
   "id": "601eead2",
   "metadata": {},
   "outputs": [],
   "source": [
    "df.head()\n",
    "\n",
    "s = df[df['method']=='strumpack']\n",
    "e = df[df['method']=='exafmm']\n",
    "et = df[df['method']=='exafmmt']"
   ]
  },
  {
   "cell_type": "code",
   "execution_count": 4,
   "id": "b4695e48",
   "metadata": {},
   "outputs": [
    {
     "data": {
      "text/html": [
       "<div>\n",
       "<style scoped>\n",
       "    .dataframe tbody tr th:only-of-type {\n",
       "        vertical-align: middle;\n",
       "    }\n",
       "\n",
       "    .dataframe tbody tr th {\n",
       "        vertical-align: top;\n",
       "    }\n",
       "\n",
       "    .dataframe thead th {\n",
       "        text-align: right;\n",
       "    }\n",
       "</style>\n",
       "<table border=\"1\" class=\"dataframe\">\n",
       "  <thead>\n",
       "    <tr style=\"text-align: right;\">\n",
       "      <th></th>\n",
       "      <th>method</th>\n",
       "      <th>N</th>\n",
       "      <th>nproc</th>\n",
       "      <th>wall_time</th>\n",
       "      <th>max_rss</th>\n",
       "    </tr>\n",
       "  </thead>\n",
       "  <tbody>\n",
       "    <tr>\n",
       "      <th>4</th>\n",
       "      <td>strumpack</td>\n",
       "      <td>1000</td>\n",
       "      <td>8</td>\n",
       "      <td>0.88</td>\n",
       "      <td>62908</td>\n",
       "    </tr>\n",
       "    <tr>\n",
       "      <th>5</th>\n",
       "      <td>strumpack</td>\n",
       "      <td>2000</td>\n",
       "      <td>16</td>\n",
       "      <td>2.12</td>\n",
       "      <td>83032</td>\n",
       "    </tr>\n",
       "    <tr>\n",
       "      <th>6</th>\n",
       "      <td>strumpack</td>\n",
       "      <td>6000</td>\n",
       "      <td>32</td>\n",
       "      <td>38.63</td>\n",
       "      <td>219856</td>\n",
       "    </tr>\n",
       "    <tr>\n",
       "      <th>7</th>\n",
       "      <td>strumpack</td>\n",
       "      <td>10000</td>\n",
       "      <td>32</td>\n",
       "      <td>223.15</td>\n",
       "      <td>442560</td>\n",
       "    </tr>\n",
       "  </tbody>\n",
       "</table>\n",
       "</div>"
      ],
      "text/plain": [
       "      method      N  nproc  wall_time  max_rss\n",
       "4  strumpack   1000      8       0.88    62908\n",
       "5  strumpack   2000     16       2.12    83032\n",
       "6  strumpack   6000     32      38.63   219856\n",
       "7  strumpack  10000     32     223.15   442560"
      ]
     },
     "execution_count": 4,
     "metadata": {},
     "output_type": "execute_result"
    }
   ],
   "source": [
    "s"
   ]
  },
  {
   "cell_type": "code",
   "execution_count": 5,
   "id": "557b32a9",
   "metadata": {},
   "outputs": [
    {
     "data": {
      "text/html": [
       "<div>\n",
       "<style scoped>\n",
       "    .dataframe tbody tr th:only-of-type {\n",
       "        vertical-align: middle;\n",
       "    }\n",
       "\n",
       "    .dataframe tbody tr th {\n",
       "        vertical-align: top;\n",
       "    }\n",
       "\n",
       "    .dataframe thead th {\n",
       "        text-align: right;\n",
       "    }\n",
       "</style>\n",
       "<table border=\"1\" class=\"dataframe\">\n",
       "  <thead>\n",
       "    <tr style=\"text-align: right;\">\n",
       "      <th></th>\n",
       "      <th>method</th>\n",
       "      <th>N</th>\n",
       "      <th>nproc</th>\n",
       "      <th>wall_time</th>\n",
       "      <th>max_rss</th>\n",
       "    </tr>\n",
       "  </thead>\n",
       "  <tbody>\n",
       "    <tr>\n",
       "      <th>8</th>\n",
       "      <td>exafmmt</td>\n",
       "      <td>1000</td>\n",
       "      <td>32</td>\n",
       "      <td>0.86</td>\n",
       "      <td>398028</td>\n",
       "    </tr>\n",
       "    <tr>\n",
       "      <th>9</th>\n",
       "      <td>exafmmt</td>\n",
       "      <td>10000</td>\n",
       "      <td>32</td>\n",
       "      <td>0.96</td>\n",
       "      <td>564376</td>\n",
       "    </tr>\n",
       "    <tr>\n",
       "      <th>10</th>\n",
       "      <td>exafmmt</td>\n",
       "      <td>100000</td>\n",
       "      <td>32</td>\n",
       "      <td>1.60</td>\n",
       "      <td>1139684</td>\n",
       "    </tr>\n",
       "    <tr>\n",
       "      <th>11</th>\n",
       "      <td>exafmmt</td>\n",
       "      <td>1000000</td>\n",
       "      <td>32</td>\n",
       "      <td>5.51</td>\n",
       "      <td>6953524</td>\n",
       "    </tr>\n",
       "  </tbody>\n",
       "</table>\n",
       "</div>"
      ],
      "text/plain": [
       "     method        N  nproc  wall_time  max_rss\n",
       "8   exafmmt     1000     32       0.86   398028\n",
       "9   exafmmt    10000     32       0.96   564376\n",
       "10  exafmmt   100000     32       1.60  1139684\n",
       "11  exafmmt  1000000     32       5.51  6953524"
      ]
     },
     "execution_count": 5,
     "metadata": {},
     "output_type": "execute_result"
    }
   ],
   "source": [
    "et"
   ]
  },
  {
   "cell_type": "code",
   "execution_count": 25,
   "id": "e676895a",
   "metadata": {},
   "outputs": [
    {
     "data": {
      "image/png": "[encoded data removed]",
      "text/plain": [
       "<Figure size 432x288 with 1 Axes>"
      ]
     },
     "metadata": {
      "needs_background": "light"
     },
     "output_type": "display_data"
    },
    {
     "data": {
      "text/plain": [
       "<Figure size 432x288 with 0 Axes>"
      ]
     },
     "metadata": {},
     "output_type": "display_data"
    }
   ],
   "source": [
    "fig, ax = plt.subplots(1,1)\n",
    "\n",
    "\n",
    "ax.plot(s['N'], s['wall_time'], '--o', label='STRUMPACK')\n",
    "ax.plot(e['N'], e['wall_time'], '--x', label='ExaFMM')\n",
    "ax.plot(et['N'], et['wall_time'], '--^', label='ExaFMM-T')\n",
    "\n",
    "ax.set_xscale('log')\n",
    "ax.set_yscale('log')\n",
    "ax.set_xlabel('N')\n",
    "ax.set_ylabel('Time (s)')\n",
    "\n",
    "ax.legend()\n",
    "plt.show()\n",
    "plt.savefig('runtime.svg', format='svg')"
   ]
  },
  {
   "cell_type": "code",
   "execution_count": null,
   "id": "1a47c834",
   "metadata": {},
   "outputs": [],
   "source": []
  },
  {
   "cell_type": "code",
   "execution_count": 27,
   "id": "4fa614aa",
   "metadata": {},
   "outputs": [
    {
     "data": {
      "image/png": "[encoded data removed]",
      "text/plain": [
       "<Figure size 432x288 with 1 Axes>"
      ]
     },
     "metadata": {
      "needs_background": "light"
     },
     "output_type": "display_data"
    }
   ],
   "source": [
    "fig, ax = plt.subplots()\n",
    "\n",
    "ax.plot(s['N'], s['max_rss']*s['N']*1e-11, '--o', label='STRUMPACK')\n",
    "ax.plot(e['N'], e['max_rss']*e['N']*1e-11, '--x', label='ExaFMM')\n",
    "ax.plot(et['N'], et['max_rss']*et['N']*1e-11, '--^', label='ExaFMM-T')\n",
    "\n",
    "ax.set_xscale('log')\n",
    "ax.set_yscale('log')\n",
    "ax.set_xlabel('N')\n",
    "ax.set_ylabel('Peak Memory (GB)')\n",
    "ax.legend()\n",
    "plt.savefig('memory.svg', format='svg')"
   ]
  },
  {
   "cell_type": "code",
   "execution_count": null,
   "id": "828b618e",
   "metadata": {},
   "outputs": [],
   "source": []
  }
 ],
 "metadata": {
  "kernelspec": {
   "display_name": "Python 3 (ipykernel)",
   "language": "python",
   "name": "python3"
  },
  "language_info": {
   "codemirror_mode": {
    "name": "ipython",
    "version": 3
   },
   "file_extension": ".py",
   "mimetype": "text/x-python",
   "name": "python",
   "nbconvert_exporter": "python",
   "pygments_lexer": "ipython3",
   "version": "3.10.4"
  }
 },
 "nbformat": 4,
 "nbformat_minor": 5
}
